{
 "cells": [
  {
   "cell_type": "code",
   "execution_count": 25,
   "metadata": {},
   "outputs": [],
   "source": [
    "from pathlib import Path\n",
    "from datetime import datetime\n",
    "\n",
    "import geowombat as gw\n",
    "from geowombat.core import ndarray_to_xarray\n",
    "from geowombat.radiometry import QAMasker\n",
    "\n",
    "import numpy as np\n",
    "import xarray as xr\n",
    "from pyhdf.SD import SD, SDC"
   ]
  },
  {
   "cell_type": "code",
   "execution_count": 16,
   "metadata": {},
   "outputs": [],
   "source": [
    "def hdf_to_geotiff(filename, output, mask_items=None, n_workers=1, n_threads=1, **kwargs):\n",
    "    \n",
    "    if not mask_items:\n",
    "        mask_items = ['cirrus', 'cloud', 'adjacent', 'shadow']\n",
    "    \n",
    "    file = SD(filename, SDC.READ)\n",
    "    \n",
    "    data = []\n",
    "\n",
    "    band_names = list(file.datasets().keys())\n",
    "    n_bands = len(band_names) - 1\n",
    "\n",
    "    for key in band_names:\n",
    "\n",
    "        sds_obj = file.select(key)\n",
    "        data.append(sds_obj.get())    \n",
    "\n",
    "    with gw.open(filename, **kwargs) as src:\n",
    "\n",
    "        data = ndarray_to_xarray(src, np.array(data), band_names)\n",
    "        data.attrs['nodatavals'] = [data.attrs['nodatavals'][0]] * n_bands\n",
    "        data.attrs['scales'] = [data.attrs['scales'][0]] * n_bands\n",
    "        data.attrs['offsets'] = [data.attrs['offsets'][0]] * n_bands\n",
    "        data.attrs['bands'] = n_bands\n",
    "\n",
    "        attrs = data.attrs.copy()\n",
    "\n",
    "        mask = QAMasker(data.sel(band='QA'), \n",
    "                        'hls', \n",
    "                        mask_items).to_mask()\n",
    "\n",
    "        data = data.sel(band=[b for b in band_names if b != 'QA'])\n",
    "        data = xr.where(mask.sel(band='mask') < 2, data, 0).transpose('band', 'y', 'x')\n",
    "        data.attrs = attrs\n",
    "\n",
    "        data.gw.to_raster(output,\n",
    "                          n_workers=n_workers,\n",
    "                          n_threads=n_threads,\n",
    "                          overwrite=True,\n",
    "                          compress='lzw')"
   ]
  },
  {
   "cell_type": "code",
   "execution_count": 22,
   "metadata": {},
   "outputs": [],
   "source": [
    "mainpath = Path('/media/jcgr/data/projects/global_fields/test')"
   ]
  },
  {
   "cell_type": "code",
   "execution_count": 37,
   "metadata": {},
   "outputs": [],
   "source": [
    "hdf_file = str(mainpath / 'L30/2018/21JXM/HLS.L30.T21JXM.2018325.v1.4.hdf')\n",
    "gtiff_file = str(mainpath / 'L30/2018/21JXM/HLS.L30.T21JXM.2018325.v1.4.tif')"
   ]
  },
  {
   "cell_type": "code",
   "execution_count": 39,
   "metadata": {},
   "outputs": [
    {
     "name": "stderr",
     "output_type": "stream",
     "text": [
      "100%|██████████| 64/64 [00:33<00:00,  1.89it/s]\n",
      "100%|██████████| 64/64 [00:06<00:00,  9.20it/s]\n"
     ]
    }
   ],
   "source": [
    "hdf_to_geotiff(hdf_file, gtiff_file, n_workers=6, n_threads=1, chunks=512)"
   ]
  },
  {
   "cell_type": "code",
   "execution_count": 29,
   "metadata": {},
   "outputs": [
    {
     "data": {
      "text/plain": [
       "325"
      ]
     },
     "execution_count": 29,
     "metadata": {},
     "output_type": "execute_result"
    }
   ],
   "source": [
    "dt = datetime.strptime('20181121', '%Y%m%d')\n",
    "tt = dt.timetuple()\n",
    "tt.tm_yday"
   ]
  }
 ],
 "metadata": {
  "kernelspec": {
   "display_name": "Python 3",
   "language": "python",
   "name": "python3"
  },
  "language_info": {
   "codemirror_mode": {
    "name": "ipython",
    "version": 3
   },
   "file_extension": ".py",
   "mimetype": "text/x-python",
   "name": "python",
   "nbconvert_exporter": "python",
   "pygments_lexer": "ipython3",
   "version": "3.7.5"
  }
 },
 "nbformat": 4,
 "nbformat_minor": 4
}
